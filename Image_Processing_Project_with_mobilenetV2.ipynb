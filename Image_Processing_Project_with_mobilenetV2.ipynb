{
  "nbformat": 4,
  "nbformat_minor": 0,
  "metadata": {
    "colab": {
      "name": "Image Processing Project.ipynb",
      "provenance": [],
      "collapsed_sections": []
    },
    "kernelspec": {
      "name": "python3",
      "display_name": "Python 3"
    },
    "language_info": {
      "name": "python"
    },
    "accelerator": "GPU"
  },
  "cells": [
    {
      "cell_type": "code",
      "source": [
        "from tensorflow.compat.v1 import ConfigProto\n",
        "from tensorflow.compat.v1 import InteractiveSession\n",
        "import os\n",
        "config = ConfigProto()\n",
        "config.gpu_options.per_process_gpu_memory_fraction = 0.9\n",
        "config.gpu_options.allow_growth = True\n",
        "session = InteractiveSession(config=config)\n",
        "os.environ['TF_FORCE_GPU_ALLOW_GROWTH'] = 'true'"
      ],
      "metadata": {
        "colab": {
          "base_uri": "https://localhost:8080/"
        },
        "id": "LX3FznJ6h9u2",
        "outputId": "53b4bbfb-7cdd-41bd-ee0a-bde68641c351"
      },
      "execution_count": 2,
      "outputs": [
        {
          "output_type": "stream",
          "name": "stderr",
          "text": [
            "/usr/local/lib/python3.7/dist-packages/tensorflow/python/client/session.py:1771: UserWarning: An interactive session is already active. This can cause out-of-memory errors in some cases. You must explicitly call `InteractiveSession.close()` to release resources held by the other session(s).\n",
            "  warnings.warn('An interactive session is already active. This can '\n"
          ]
        }
      ]
    },
    {
      "cell_type": "code",
      "source": [
        "!nvcc --version"
      ],
      "metadata": {
        "colab": {
          "base_uri": "https://localhost:8080/"
        },
        "id": "VW81Qt1KuZd0",
        "outputId": "f8bb365c-c8e9-49b2-e136-c0c26c4bf1a8"
      },
      "execution_count": 3,
      "outputs": [
        {
          "output_type": "stream",
          "name": "stdout",
          "text": [
            "nvcc: NVIDIA (R) Cuda compiler driver\n",
            "Copyright (c) 2005-2020 NVIDIA Corporation\n",
            "Built on Mon_Oct_12_20:09:46_PDT_2020\n",
            "Cuda compilation tools, release 11.1, V11.1.105\n",
            "Build cuda_11.1.TC455_06.29190527_0\n"
          ]
        }
      ]
    },
    {
      "cell_type": "code",
      "source": [
        "!nvidia-smi"
      ],
      "metadata": {
        "colab": {
          "base_uri": "https://localhost:8080/"
        },
        "id": "oW4Hp1lRuekk",
        "outputId": "1b560190-208e-4259-ca32-e82379ac3cf8"
      },
      "execution_count": 4,
      "outputs": [
        {
          "output_type": "stream",
          "name": "stdout",
          "text": [
            "Thu Jan 13 03:49:08 2022       \n",
            "+-----------------------------------------------------------------------------+\n",
            "| NVIDIA-SMI 495.46       Driver Version: 460.32.03    CUDA Version: 11.2     |\n",
            "|-------------------------------+----------------------+----------------------+\n",
            "| GPU  Name        Persistence-M| Bus-Id        Disp.A | Volatile Uncorr. ECC |\n",
            "| Fan  Temp  Perf  Pwr:Usage/Cap|         Memory-Usage | GPU-Util  Compute M. |\n",
            "|                               |                      |               MIG M. |\n",
            "|===============================+======================+======================|\n",
            "|   0  Tesla T4            Off  | 00000000:00:04.0 Off |                    0 |\n",
            "| N/A   44C    P0    26W /  70W |    264MiB / 15109MiB |      0%      Default |\n",
            "|                               |                      |                  N/A |\n",
            "+-------------------------------+----------------------+----------------------+\n",
            "                                                                               \n",
            "+-----------------------------------------------------------------------------+\n",
            "| Processes:                                                                  |\n",
            "|  GPU   GI   CI        PID   Type   Process name                  GPU Memory |\n",
            "|        ID   ID                                                   Usage      |\n",
            "|=============================================================================|\n",
            "|  No running processes found                                                 |\n",
            "+-----------------------------------------------------------------------------+\n"
          ]
        }
      ]
    },
    {
      "cell_type": "markdown",
      "source": [
        "**Installing important libraries:**\n"
      ],
      "metadata": {
        "id": "uoKWT6YGeK3e"
      }
    },
    {
      "cell_type": "code",
      "source": [
        "!pip install utils\n",
        "!pip install tensorpack"
      ],
      "metadata": {
        "colab": {
          "base_uri": "https://localhost:8080/"
        },
        "id": "V5k_DFywdr7L",
        "outputId": "e29389f9-f31f-43c5-e7a8-fe4e16ab5a83"
      },
      "execution_count": 5,
      "outputs": [
        {
          "output_type": "stream",
          "name": "stdout",
          "text": [
            "Collecting utils\n",
            "  Downloading utils-1.0.1-py2.py3-none-any.whl (21 kB)\n",
            "Installing collected packages: utils\n",
            "Successfully installed utils-1.0.1\n",
            "Collecting tensorpack\n",
            "  Downloading tensorpack-0.11-py2.py3-none-any.whl (296 kB)\n",
            "\u001b[K     |████████████████████████████████| 296 kB 7.2 MB/s \n",
            "\u001b[?25hRequirement already satisfied: tabulate>=0.7.7 in /usr/local/lib/python3.7/dist-packages (from tensorpack) (0.8.9)\n",
            "Requirement already satisfied: numpy>=1.14 in /usr/local/lib/python3.7/dist-packages (from tensorpack) (1.19.5)\n",
            "Requirement already satisfied: pyzmq>=16 in /usr/local/lib/python3.7/dist-packages (from tensorpack) (22.3.0)\n",
            "Requirement already satisfied: tqdm>4.29.0 in /usr/local/lib/python3.7/dist-packages (from tensorpack) (4.62.3)\n",
            "Requirement already satisfied: msgpack>=0.5.2 in /usr/local/lib/python3.7/dist-packages (from tensorpack) (1.0.3)\n",
            "Requirement already satisfied: six in /usr/local/lib/python3.7/dist-packages (from tensorpack) (1.15.0)\n",
            "Requirement already satisfied: psutil>=5 in /usr/local/lib/python3.7/dist-packages (from tensorpack) (5.4.8)\n",
            "Collecting msgpack-numpy>=0.4.4.2\n",
            "  Downloading msgpack_numpy-0.4.7.1-py2.py3-none-any.whl (6.7 kB)\n",
            "Requirement already satisfied: termcolor>=1.1 in /usr/local/lib/python3.7/dist-packages (from tensorpack) (1.1.0)\n",
            "Installing collected packages: msgpack-numpy, tensorpack\n",
            "Successfully installed msgpack-numpy-0.4.7.1 tensorpack-0.11\n"
          ]
        }
      ]
    },
    {
      "cell_type": "markdown",
      "source": [
        "**Importing the dataset**"
      ],
      "metadata": {
        "id": "lnUActYbefCT"
      }
    },
    {
      "cell_type": "code",
      "source": [
        "from google.colab import drive\n",
        "drive.mount('/content/drive')"
      ],
      "metadata": {
        "id": "zWPgWpZyejHD",
        "colab": {
          "base_uri": "https://localhost:8080/"
        },
        "outputId": "1a2f839d-30e1-4384-c225-2b8d509e92d1"
      },
      "execution_count": 6,
      "outputs": [
        {
          "output_type": "stream",
          "name": "stdout",
          "text": [
            "Mounted at /content/drive\n"
          ]
        }
      ]
    },
    {
      "cell_type": "code",
      "source": [
        "import zipfile\n",
        "import random\n",
        "import tensorflow as tf\n",
        "import numpy as np\n",
        "np.random.seed(456)\n",
        "import shutil\n",
        "import os\n",
        "from tensorflow.keras.preprocessing.image import ImageDataGenerator\n",
        "from shutil import copyfile\n",
        "from os import getcwd\n",
        "from glob import glob"
      ],
      "metadata": {
        "id": "aEE0a7e5ewEG"
      },
      "execution_count": 7,
      "outputs": []
    },
    {
      "cell_type": "code",
      "source": [
        "for element in glob(\"/content/drive/MyDrive/imagedata/yes/*.jpg\"):\n",
        "  shutil.copy(element,\"/content/yes/\")\n",
        "for element in glob(\"/content/drive/MyDrive/imagedata/no/*.jpg\"):\n",
        "  shutil.copy(element,\"/content/no/\")"
      ],
      "metadata": {
        "id": "e9sRoixAgl2B"
      },
      "execution_count": 8,
      "outputs": []
    },
    {
      "cell_type": "code",
      "source": [
        "len1 = os.listdir(\"/content/yes/\")\n",
        "len2 = os.listdir(\"/content/no/\")\n",
        "print(len(len1))\n",
        "print(len(len2))"
      ],
      "metadata": {
        "colab": {
          "base_uri": "https://localhost:8080/"
        },
        "id": "n56u5J2Dhd0H",
        "outputId": "dcc7484a-ec42-4c28-f475-827e9385667a"
      },
      "execution_count": 9,
      "outputs": [
        {
          "output_type": "stream",
          "name": "stdout",
          "text": [
            "86\n",
            "85\n"
          ]
        }
      ]
    },
    {
      "cell_type": "markdown",
      "source": [
        "**Data Augmnentation**"
      ],
      "metadata": {
        "id": "D7cXbIL6hxXg"
      }
    },
    {
      "cell_type": "code",
      "source": [
        "from tensorflow.keras.initializers import VarianceScaling\n",
        "#kernel_initializer = tf.contrib.layers.variance_scaling_initializer(2.0)\n",
        "kernel_initializer = tf.keras.initializers.VarianceScaling(2.0) #https://www.tensorflow.org/api_docs/python/tf/keras/initializers/VarianceScaling"
      ],
      "metadata": {
        "id": "aJ5_KQ-xiEvo"
      },
      "execution_count": 10,
      "outputs": []
    },
    {
      "cell_type": "code",
      "source": [
        "import tensorflow as tf\n",
        "from tensorflow.keras.preprocessing.image import ImageDataGenerator\n",
        "import cv2\n",
        "import imutils\n",
        "import matplotlib.pyplot as plt\n",
        "from os import listdir\n",
        "import time    \n",
        "import os\n",
        "from PIL import Image\n",
        "%matplotlib inline"
      ],
      "metadata": {
        "id": "9EFQ0dPchos1"
      },
      "execution_count": 11,
      "outputs": []
    },
    {
      "cell_type": "code",
      "source": [
        "def hms_string(sec_elapsed):\n",
        "    h = int(sec_elapsed / (60 * 60))\n",
        "    m = int((sec_elapsed % (60 * 60)) / 60)\n",
        "    s = sec_elapsed % 60\n",
        "    return f\"{h}:{m}:{round(s,1)}\""
      ],
      "metadata": {
        "id": "1JMoff0viNdG"
      },
      "execution_count": 12,
      "outputs": []
    },
    {
      "cell_type": "code",
      "source": [
        "def augment_data(file_dir, n_generated_samples, save_to_dir):\n",
        "    \"\"\"\n",
        "    Arguments:\n",
        "        file_dir: A string representing the directory where images that we want to augment are found.\n",
        "        n_generated_samples: A string representing the number of generated samples using the given image.\n",
        "        save_to_dir: A string representing the directory in which the generated images will be saved.\n",
        "    \"\"\"\n",
        "    \n",
        "    #from keras.preprocessing.image import ImageDataGenerator\n",
        "    #from os import listdir\n",
        "    \n",
        "    data_gen = ImageDataGenerator(rotation_range=10, \n",
        "                                  width_shift_range=0.1, \n",
        "                                  height_shift_range=0.1, \n",
        "                                  shear_range=0.1, \n",
        "                                  brightness_range=(0.3, 1.0),\n",
        "                                  horizontal_flip=True, \n",
        "                                  vertical_flip=True, \n",
        "                                  fill_mode='nearest'\n",
        "                                 )\n",
        "\n",
        "    \n",
        "    for filename in listdir(file_dir):\n",
        "        # load the image\n",
        "        image = cv2.imread(file_dir + '/' + filename)\n",
        "        # reshape the image\n",
        "        image = image.reshape((1,)+image.shape)\n",
        "        # prefix of the names for the generated sampels.\n",
        "        save_prefix = 'aug_' + filename[:-4]\n",
        "        # generate 'n_generated_samples' sample images\n",
        "        i=0\n",
        "        for batch in data_gen.flow(x=image, batch_size=1, save_to_dir=save_to_dir, \n",
        "                                           save_prefix=save_prefix, save_format='jpg'):\n",
        "            i += 1\n",
        "            if i > n_generated_samples:\n",
        "                break"
      ],
      "metadata": {
        "id": "Xbhahb0OiRY4"
      },
      "execution_count": 13,
      "outputs": []
    },
    {
      "cell_type": "code",
      "source": [
        "start_time = time.time()\n",
        "\n",
        "augmented_data_path = '/content/augmented data/'\n",
        "\n",
        "# augment data for the examples with label equal to 'yes' representing tumurous examples\n",
        "augment_data(file_dir='/content/yes/', n_generated_samples=6, save_to_dir=augmented_data_path+'yes')\n",
        "# augment data for the examples with label equal to 'no' representing non-tumurous examples\n",
        "augment_data(file_dir='/content/no/', n_generated_samples=9, save_to_dir=augmented_data_path+'no')\n",
        "\n",
        "end_time = time.time()\n",
        "execution_time = (end_time - start_time)\n",
        "print(f\"Elapsed time: {hms_string(execution_time)}\")"
      ],
      "metadata": {
        "colab": {
          "base_uri": "https://localhost:8080/"
        },
        "id": "33QhJhjKiVa9",
        "outputId": "34c35517-61e6-43a0-b8c3-aba6608d7e91"
      },
      "execution_count": 17,
      "outputs": [
        {
          "output_type": "stream",
          "name": "stdout",
          "text": [
            "Elapsed time: 0:1:11.1\n"
          ]
        }
      ]
    },
    {
      "cell_type": "code",
      "source": [
        "def data_summary(main_path):\n",
        "    \n",
        "    yes_path = main_path+'yes'\n",
        "    no_path = main_path+'no'\n",
        "        \n",
        "    # number of files (images) that are in the the folder named 'yes' that represent tumorous (positive) examples\n",
        "    m_pos = len(listdir(yes_path))\n",
        "    # number of files (images) that are in the the folder named 'no' that represent non-tumorous (negative) examples\n",
        "    m_neg = len(listdir(no_path))\n",
        "    # number of all examples\n",
        "    m = (m_pos+m_neg)\n",
        "    \n",
        "    pos_prec = (m_pos* 100.0)/ m\n",
        "    neg_prec = (m_neg* 100.0)/ m\n",
        "    \n",
        "    print(f\"Number of examples: {m}\")\n",
        "    print(f\"Percentage of positive examples: {pos_prec}%, number of pos examples: {m_pos}\") \n",
        "    print(f\"Percentage of negative examples: {neg_prec}%, number of neg examples: {m_neg}\")"
      ],
      "metadata": {
        "id": "cg-pEnnyij6z"
      },
      "execution_count": 15,
      "outputs": []
    },
    {
      "cell_type": "code",
      "source": [
        "data_summary(augmented_data_path)"
      ],
      "metadata": {
        "colab": {
          "base_uri": "https://localhost:8080/"
        },
        "id": "p6msg0fpjB2g",
        "outputId": "5a8d0d3d-35ee-43dc-c556-b2475e009582"
      },
      "execution_count": 18,
      "outputs": [
        {
          "output_type": "stream",
          "name": "stdout",
          "text": [
            "Number of examples: 2904\n",
            "Percentage of positive examples: 41.460055096418735%, number of pos examples: 1204\n",
            "Percentage of negative examples: 58.539944903581265%, number of neg examples: 1700\n"
          ]
        }
      ]
    },
    {
      "cell_type": "markdown",
      "source": [
        "**Model architecture creation**"
      ],
      "metadata": {
        "id": "Ll4P6QVEjiJr"
      }
    },
    {
      "cell_type": "code",
      "source": [
        "from tensorflow.keras.layers import Input, Lambda, Dense, Flatten\n",
        "from tensorflow.keras.models import Model\n",
        "from tensorflow.keras.preprocessing import image\n",
        "from tensorflow.keras.preprocessing.image import ImageDataGenerator,load_img\n",
        "from tensorflow.keras.models import Sequential\n",
        "import numpy as np\n",
        "from glob import glob\n",
        "import tensorflow as tf\n",
        "from tensorflow import keras\n",
        "from tensorflow.keras import backend as K \n",
        "from tensorflow.keras.layers import Layer\n",
        "from tensorflow.keras.layers import Dropout\n",
        "import math\n",
        "from typing import Iterator, List, Union, Tuple\n",
        "from datetime import datetime\n",
        "import pandas as pd\n",
        "import matplotlib.pyplot as plt\n",
        "import seaborn as sns\n",
        "from sklearn.model_selection import train_test_split\n",
        "from glob import glob\n",
        "from tensorflow import keras\n",
        "from tensorflow.keras.preprocessing.image import ImageDataGenerator\n",
        "from tensorflow.keras import layers, models, Model\n",
        "from tensorflow.python.keras.callbacks import TensorBoard, EarlyStopping, ModelCheckpoint\n",
        "from tensorflow.keras.losses import MeanAbsoluteError, MeanAbsolutePercentageError\n",
        "from tensorflow.keras.models import Sequential\n",
        "from tensorflow.keras.applications import MobileNet\n",
        "from tensorflow.keras.utils import plot_model\n",
        "from tensorflow.keras.callbacks import History\n",
        "### Import necessary dependencies and libraries\n",
        "import tensorflow as tf\n",
        "from tensorpack.models.common import layer_register\n",
        "from tensorpack.utils.argtools import shape2d, shape4d, get_data_format\n",
        "from tensorpack.models import BatchNorm, BNReLU, Conv2D\n",
        "import math\n",
        "import utils\n",
        "import random\n",
        "import tensorflow as tf\n",
        "from tensorflow.python.framework import ops\n",
        "from tensorpack.models.common import layer_register, VariableHolder\n",
        "from tensorpack.tfutils.common import get_tf_version_tuple\n",
        "#from tensorflow.contrib.framework.python.ops import add_arg_scope\n",
        "from tensorpack.tfutils.tower import get_current_tower_context\n",
        "from tensorpack.utils.argtools import shape2d, shape4d, get_data_format\n",
        "from tensorpack.models.tflayer import rename_get_variable, convert_to_tflayer_args\n",
        "from tensorpack.models import BatchNorm, BNReLU, Conv2D\n",
        "import numpy as np\n",
        "import math\n",
        "import utils\n",
        "import os"
      ],
      "metadata": {
        "id": "xjTXiGCJjHIz"
      },
      "execution_count": 19,
      "outputs": []
    },
    {
      "cell_type": "code",
      "source": [
        "IMAGE_SIZE = [224, 224]\n",
        "model = MobileNet(input_shape=IMAGE_SIZE + [3], weights='imagenet', include_top=False)\n",
        "# layer = Dropout(0.9)"
      ],
      "metadata": {
        "id": "ent4yQ6Ejvgq",
        "colab": {
          "base_uri": "https://localhost:8080/"
        },
        "outputId": "d44e2f2c-b2a0-493d-dfd3-439da77bac4f"
      },
      "execution_count": 20,
      "outputs": [
        {
          "output_type": "stream",
          "name": "stdout",
          "text": [
            "Downloading data from https://storage.googleapis.com/tensorflow/keras-applications/mobilenet/mobilenet_1_0_224_tf_no_top.h5\n",
            "17227776/17225924 [==============================] - 0s 0us/step\n",
            "17235968/17225924 [==============================] - 0s 0us/step\n"
          ]
        }
      ]
    },
    {
      "cell_type": "code",
      "source": [
        "# new_model = Sequential()\n",
        "# new_model.add(model)\n",
        "# new_model.add(layer)"
      ],
      "metadata": {
        "id": "13MPz-XGj0dE"
      },
      "execution_count": null,
      "outputs": []
    },
    {
      "cell_type": "code",
      "source": [
        "# new_model.summary()"
      ],
      "metadata": {
        "colab": {
          "base_uri": "https://localhost:8080/"
        },
        "id": "mcH9fifBj3o6",
        "outputId": "6a53a1dd-bdeb-47b7-8fd4-dbb7a614fcc2"
      },
      "execution_count": null,
      "outputs": [
        {
          "output_type": "stream",
          "name": "stdout",
          "text": [
            "Model: \"sequential_2\"\n",
            "_________________________________________________________________\n",
            "Layer (type)                 Output Shape              Param #   \n",
            "=================================================================\n",
            "mobilenet_1.00_224 (Function (None, 7, 7, 1024)        3228864   \n",
            "=================================================================\n",
            "Total params: 3,228,864\n",
            "Trainable params: 3,206,976\n",
            "Non-trainable params: 21,888\n",
            "_________________________________________________________________\n"
          ]
        }
      ]
    },
    {
      "cell_type": "code",
      "source": [
        "x = Flatten()(model.output)\n",
        "prediction = Dense(3, activation='softmax')(x)\n",
        "model_finall = Model(inputs=model.input, outputs=prediction)\n",
        "model_finall.summary()"
      ],
      "metadata": {
        "colab": {
          "base_uri": "https://localhost:8080/"
        },
        "id": "5yjgSu2LkEJW",
        "outputId": "f10e6c46-2cac-461f-f354-1271f8842d10"
      },
      "execution_count": 21,
      "outputs": [
        {
          "output_type": "stream",
          "name": "stdout",
          "text": [
            "Model: \"model\"\n",
            "_________________________________________________________________\n",
            " Layer (type)                Output Shape              Param #   \n",
            "=================================================================\n",
            " input_1 (InputLayer)        [(None, 224, 224, 3)]     0         \n",
            "                                                                 \n",
            " conv1 (Conv2D)              (None, 112, 112, 32)      864       \n",
            "                                                                 \n",
            " conv1_bn (BatchNormalizatio  (None, 112, 112, 32)     128       \n",
            " n)                                                              \n",
            "                                                                 \n",
            " conv1_relu (ReLU)           (None, 112, 112, 32)      0         \n",
            "                                                                 \n",
            " conv_dw_1 (DepthwiseConv2D)  (None, 112, 112, 32)     288       \n",
            "                                                                 \n",
            " conv_dw_1_bn (BatchNormaliz  (None, 112, 112, 32)     128       \n",
            " ation)                                                          \n",
            "                                                                 \n",
            " conv_dw_1_relu (ReLU)       (None, 112, 112, 32)      0         \n",
            "                                                                 \n",
            " conv_pw_1 (Conv2D)          (None, 112, 112, 64)      2048      \n",
            "                                                                 \n",
            " conv_pw_1_bn (BatchNormaliz  (None, 112, 112, 64)     256       \n",
            " ation)                                                          \n",
            "                                                                 \n",
            " conv_pw_1_relu (ReLU)       (None, 112, 112, 64)      0         \n",
            "                                                                 \n",
            " conv_pad_2 (ZeroPadding2D)  (None, 113, 113, 64)      0         \n",
            "                                                                 \n",
            " conv_dw_2 (DepthwiseConv2D)  (None, 56, 56, 64)       576       \n",
            "                                                                 \n",
            " conv_dw_2_bn (BatchNormaliz  (None, 56, 56, 64)       256       \n",
            " ation)                                                          \n",
            "                                                                 \n",
            " conv_dw_2_relu (ReLU)       (None, 56, 56, 64)        0         \n",
            "                                                                 \n",
            " conv_pw_2 (Conv2D)          (None, 56, 56, 128)       8192      \n",
            "                                                                 \n",
            " conv_pw_2_bn (BatchNormaliz  (None, 56, 56, 128)      512       \n",
            " ation)                                                          \n",
            "                                                                 \n",
            " conv_pw_2_relu (ReLU)       (None, 56, 56, 128)       0         \n",
            "                                                                 \n",
            " conv_dw_3 (DepthwiseConv2D)  (None, 56, 56, 128)      1152      \n",
            "                                                                 \n",
            " conv_dw_3_bn (BatchNormaliz  (None, 56, 56, 128)      512       \n",
            " ation)                                                          \n",
            "                                                                 \n",
            " conv_dw_3_relu (ReLU)       (None, 56, 56, 128)       0         \n",
            "                                                                 \n",
            " conv_pw_3 (Conv2D)          (None, 56, 56, 128)       16384     \n",
            "                                                                 \n",
            " conv_pw_3_bn (BatchNormaliz  (None, 56, 56, 128)      512       \n",
            " ation)                                                          \n",
            "                                                                 \n",
            " conv_pw_3_relu (ReLU)       (None, 56, 56, 128)       0         \n",
            "                                                                 \n",
            " conv_pad_4 (ZeroPadding2D)  (None, 57, 57, 128)       0         \n",
            "                                                                 \n",
            " conv_dw_4 (DepthwiseConv2D)  (None, 28, 28, 128)      1152      \n",
            "                                                                 \n",
            " conv_dw_4_bn (BatchNormaliz  (None, 28, 28, 128)      512       \n",
            " ation)                                                          \n",
            "                                                                 \n",
            " conv_dw_4_relu (ReLU)       (None, 28, 28, 128)       0         \n",
            "                                                                 \n",
            " conv_pw_4 (Conv2D)          (None, 28, 28, 256)       32768     \n",
            "                                                                 \n",
            " conv_pw_4_bn (BatchNormaliz  (None, 28, 28, 256)      1024      \n",
            " ation)                                                          \n",
            "                                                                 \n",
            " conv_pw_4_relu (ReLU)       (None, 28, 28, 256)       0         \n",
            "                                                                 \n",
            " conv_dw_5 (DepthwiseConv2D)  (None, 28, 28, 256)      2304      \n",
            "                                                                 \n",
            " conv_dw_5_bn (BatchNormaliz  (None, 28, 28, 256)      1024      \n",
            " ation)                                                          \n",
            "                                                                 \n",
            " conv_dw_5_relu (ReLU)       (None, 28, 28, 256)       0         \n",
            "                                                                 \n",
            " conv_pw_5 (Conv2D)          (None, 28, 28, 256)       65536     \n",
            "                                                                 \n",
            " conv_pw_5_bn (BatchNormaliz  (None, 28, 28, 256)      1024      \n",
            " ation)                                                          \n",
            "                                                                 \n",
            " conv_pw_5_relu (ReLU)       (None, 28, 28, 256)       0         \n",
            "                                                                 \n",
            " conv_pad_6 (ZeroPadding2D)  (None, 29, 29, 256)       0         \n",
            "                                                                 \n",
            " conv_dw_6 (DepthwiseConv2D)  (None, 14, 14, 256)      2304      \n",
            "                                                                 \n",
            " conv_dw_6_bn (BatchNormaliz  (None, 14, 14, 256)      1024      \n",
            " ation)                                                          \n",
            "                                                                 \n",
            " conv_dw_6_relu (ReLU)       (None, 14, 14, 256)       0         \n",
            "                                                                 \n",
            " conv_pw_6 (Conv2D)          (None, 14, 14, 512)       131072    \n",
            "                                                                 \n",
            " conv_pw_6_bn (BatchNormaliz  (None, 14, 14, 512)      2048      \n",
            " ation)                                                          \n",
            "                                                                 \n",
            " conv_pw_6_relu (ReLU)       (None, 14, 14, 512)       0         \n",
            "                                                                 \n",
            " conv_dw_7 (DepthwiseConv2D)  (None, 14, 14, 512)      4608      \n",
            "                                                                 \n",
            " conv_dw_7_bn (BatchNormaliz  (None, 14, 14, 512)      2048      \n",
            " ation)                                                          \n",
            "                                                                 \n",
            " conv_dw_7_relu (ReLU)       (None, 14, 14, 512)       0         \n",
            "                                                                 \n",
            " conv_pw_7 (Conv2D)          (None, 14, 14, 512)       262144    \n",
            "                                                                 \n",
            " conv_pw_7_bn (BatchNormaliz  (None, 14, 14, 512)      2048      \n",
            " ation)                                                          \n",
            "                                                                 \n",
            " conv_pw_7_relu (ReLU)       (None, 14, 14, 512)       0         \n",
            "                                                                 \n",
            " conv_dw_8 (DepthwiseConv2D)  (None, 14, 14, 512)      4608      \n",
            "                                                                 \n",
            " conv_dw_8_bn (BatchNormaliz  (None, 14, 14, 512)      2048      \n",
            " ation)                                                          \n",
            "                                                                 \n",
            " conv_dw_8_relu (ReLU)       (None, 14, 14, 512)       0         \n",
            "                                                                 \n",
            " conv_pw_8 (Conv2D)          (None, 14, 14, 512)       262144    \n",
            "                                                                 \n",
            " conv_pw_8_bn (BatchNormaliz  (None, 14, 14, 512)      2048      \n",
            " ation)                                                          \n",
            "                                                                 \n",
            " conv_pw_8_relu (ReLU)       (None, 14, 14, 512)       0         \n",
            "                                                                 \n",
            " conv_dw_9 (DepthwiseConv2D)  (None, 14, 14, 512)      4608      \n",
            "                                                                 \n",
            " conv_dw_9_bn (BatchNormaliz  (None, 14, 14, 512)      2048      \n",
            " ation)                                                          \n",
            "                                                                 \n",
            " conv_dw_9_relu (ReLU)       (None, 14, 14, 512)       0         \n",
            "                                                                 \n",
            " conv_pw_9 (Conv2D)          (None, 14, 14, 512)       262144    \n",
            "                                                                 \n",
            " conv_pw_9_bn (BatchNormaliz  (None, 14, 14, 512)      2048      \n",
            " ation)                                                          \n",
            "                                                                 \n",
            " conv_pw_9_relu (ReLU)       (None, 14, 14, 512)       0         \n",
            "                                                                 \n",
            " conv_dw_10 (DepthwiseConv2D  (None, 14, 14, 512)      4608      \n",
            " )                                                               \n",
            "                                                                 \n",
            " conv_dw_10_bn (BatchNormali  (None, 14, 14, 512)      2048      \n",
            " zation)                                                         \n",
            "                                                                 \n",
            " conv_dw_10_relu (ReLU)      (None, 14, 14, 512)       0         \n",
            "                                                                 \n",
            " conv_pw_10 (Conv2D)         (None, 14, 14, 512)       262144    \n",
            "                                                                 \n",
            " conv_pw_10_bn (BatchNormali  (None, 14, 14, 512)      2048      \n",
            " zation)                                                         \n",
            "                                                                 \n",
            " conv_pw_10_relu (ReLU)      (None, 14, 14, 512)       0         \n",
            "                                                                 \n",
            " conv_dw_11 (DepthwiseConv2D  (None, 14, 14, 512)      4608      \n",
            " )                                                               \n",
            "                                                                 \n",
            " conv_dw_11_bn (BatchNormali  (None, 14, 14, 512)      2048      \n",
            " zation)                                                         \n",
            "                                                                 \n",
            " conv_dw_11_relu (ReLU)      (None, 14, 14, 512)       0         \n",
            "                                                                 \n",
            " conv_pw_11 (Conv2D)         (None, 14, 14, 512)       262144    \n",
            "                                                                 \n",
            " conv_pw_11_bn (BatchNormali  (None, 14, 14, 512)      2048      \n",
            " zation)                                                         \n",
            "                                                                 \n",
            " conv_pw_11_relu (ReLU)      (None, 14, 14, 512)       0         \n",
            "                                                                 \n",
            " conv_pad_12 (ZeroPadding2D)  (None, 15, 15, 512)      0         \n",
            "                                                                 \n",
            " conv_dw_12 (DepthwiseConv2D  (None, 7, 7, 512)        4608      \n",
            " )                                                               \n",
            "                                                                 \n",
            " conv_dw_12_bn (BatchNormali  (None, 7, 7, 512)        2048      \n",
            " zation)                                                         \n",
            "                                                                 \n",
            " conv_dw_12_relu (ReLU)      (None, 7, 7, 512)         0         \n",
            "                                                                 \n",
            " conv_pw_12 (Conv2D)         (None, 7, 7, 1024)        524288    \n",
            "                                                                 \n",
            " conv_pw_12_bn (BatchNormali  (None, 7, 7, 1024)       4096      \n",
            " zation)                                                         \n",
            "                                                                 \n",
            " conv_pw_12_relu (ReLU)      (None, 7, 7, 1024)        0         \n",
            "                                                                 \n",
            " conv_dw_13 (DepthwiseConv2D  (None, 7, 7, 1024)       9216      \n",
            " )                                                               \n",
            "                                                                 \n",
            " conv_dw_13_bn (BatchNormali  (None, 7, 7, 1024)       4096      \n",
            " zation)                                                         \n",
            "                                                                 \n",
            " conv_dw_13_relu (ReLU)      (None, 7, 7, 1024)        0         \n",
            "                                                                 \n",
            " conv_pw_13 (Conv2D)         (None, 7, 7, 1024)        1048576   \n",
            "                                                                 \n",
            " conv_pw_13_bn (BatchNormali  (None, 7, 7, 1024)       4096      \n",
            " zation)                                                         \n",
            "                                                                 \n",
            " conv_pw_13_relu (ReLU)      (None, 7, 7, 1024)        0         \n",
            "                                                                 \n",
            " flatten (Flatten)           (None, 50176)             0         \n",
            "                                                                 \n",
            " dense (Dense)               (None, 3)                 150531    \n",
            "                                                                 \n",
            "=================================================================\n",
            "Total params: 3,379,395\n",
            "Trainable params: 3,357,507\n",
            "Non-trainable params: 21,888\n",
            "_________________________________________________________________\n"
          ]
        }
      ]
    },
    {
      "cell_type": "code",
      "source": [
        "model_finall.compile(\n",
        "  loss='categorical_crossentropy',\n",
        "  optimizer='adam',\n",
        "  metrics=['accuracy']\n",
        ")"
      ],
      "metadata": {
        "id": "-CHkTQ4jkI80"
      },
      "execution_count": 22,
      "outputs": []
    },
    {
      "cell_type": "markdown",
      "source": [
        "**Distributing the data into train test and validation set**"
      ],
      "metadata": {
        "id": "-r49IpxCkMqD"
      }
    },
    {
      "cell_type": "code",
      "source": [
        "all_pathsHEALTH = []\n",
        "from glob import glob\n",
        "N=0\n",
        "for element in glob(\"augmented data/yes/*\"): \n",
        "  all_pathsHEALTH.append(element) #append individual paths of renamed Training Images in all_paths list\n",
        "  #clahe_resize(element) #resize the pictures\n",
        "  N+=1\n",
        "num_to_select = int(round(N*0.10))          #select 10% of training images these many pictures from all_paths at random               \n",
        "list_of_random_items = random.sample(all_pathsHEALTH, num_to_select)\n",
        "for element in list_of_random_items:\n",
        "  p = element.split(\"/\") \n",
        "  os.replace(element, \"val/yes/\"+p[-1])"
      ],
      "metadata": {
        "id": "ZAZBmxfrkUfR"
      },
      "execution_count": 23,
      "outputs": []
    },
    {
      "cell_type": "code",
      "source": [
        "all_pathsHEALTH = []\n",
        "from glob import glob\n",
        "N=0\n",
        "for element in glob(\"augmented data/no/*\"): \n",
        "  all_pathsHEALTH.append(element) #append individual paths of renamed Training Images in all_paths list\n",
        "  #clahe_resize(element) #resize the pictures\n",
        "  N+=1\n",
        "num_to_select = int(round(N*0.10))          #select 10% of training images these many pictures from all_paths at random               \n",
        "list_of_random_items = random.sample(all_pathsHEALTH, num_to_select)\n",
        "for element in list_of_random_items:\n",
        "  p = element.split(\"/\") \n",
        "  os.replace(element, \"val/no/\"+p[-1])"
      ],
      "metadata": {
        "id": "dLcgBYF1kf-x"
      },
      "execution_count": 24,
      "outputs": []
    },
    {
      "cell_type": "code",
      "source": [
        "all_pathsHEALTH = []\n",
        "from glob import glob\n",
        "N=0\n",
        "for element in glob(\"augmented data/yes/*\"): \n",
        "  all_pathsHEALTH.append(element) #append individual paths of renamed Training Images in all_paths list\n",
        "  #clahe_resize(element) #resize the pictures\n",
        "  N+=1\n",
        "num_to_select = int(round(N*0.10))          #select 10% of training images these many pictures from all_paths at random               \n",
        "list_of_random_items = random.sample(all_pathsHEALTH, num_to_select)\n",
        "for element in list_of_random_items:\n",
        "  p = element.split(\"/\") \n",
        "  os.replace(element, \"test/yes/\"+p[-1])"
      ],
      "metadata": {
        "id": "gG246mAukhLk"
      },
      "execution_count": 25,
      "outputs": []
    },
    {
      "cell_type": "code",
      "source": [
        "all_pathsHEALTH = []\n",
        "from glob import glob\n",
        "N=0\n",
        "for element in glob(\"augmented data/no/*\"): \n",
        "  all_pathsHEALTH.append(element) #append individual paths of renamed Training Images in all_paths list\n",
        "  #clahe_resize(element) #resize the pictures\n",
        "  N+=1\n",
        "num_to_select = int(round(N*0.10))          #select 10% of training images these many pictures from all_paths at random               \n",
        "list_of_random_items = random.sample(all_pathsHEALTH, num_to_select)\n",
        "for element in list_of_random_items:\n",
        "  p = element.split(\"/\") \n",
        "  os.replace(element, \"test/no/\"+p[-1])"
      ],
      "metadata": {
        "id": "VsG9-U9lklF4"
      },
      "execution_count": 26,
      "outputs": []
    },
    {
      "cell_type": "code",
      "source": [
        "sum_train = len(os.listdir(\"augmented data/yes/\"))+len(os.listdir(\"augmented data/no/\"))\n",
        "sum_val = len(os.listdir(\"val/yes/\"))+len(os.listdir(\"val/no/\"))\n",
        "sum_test = len(os.listdir(\"test/yes/\"))+len(os.listdir(\"test/no/\"))\n",
        "print(f\"Images in Train = {sum_train}\")\n",
        "print(f\"Images in Validation = {sum_val}\")\n",
        "print(f\"Images in Test = {sum_test}\")"
      ],
      "metadata": {
        "colab": {
          "base_uri": "https://localhost:8080/"
        },
        "id": "I5GKuFGLkoba",
        "outputId": "ad8c1e55-9b54-4052-94fe-441f4e68c450"
      },
      "execution_count": 27,
      "outputs": [
        {
          "output_type": "stream",
          "name": "stdout",
          "text": [
            "Images in Train = 2353\n",
            "Images in Validation = 290\n",
            "Images in Test = 261\n"
          ]
        }
      ]
    },
    {
      "cell_type": "code",
      "source": [
        "import zipfile\n",
        "import random\n",
        "import tensorflow as tf\n",
        "import numpy as np\n",
        "np.random.seed(456)\n",
        "import shutil\n",
        "import os\n",
        "from tensorflow.keras.preprocessing.image import ImageDataGenerator\n",
        "from shutil import copyfile\n",
        "from os import getcwd\n",
        "train_path ='/content/augmented data/'\n",
        "train_datagen = ImageDataGenerator(rescale= 1./255)\n",
        "train_generator = train_datagen.flow_from_directory(\n",
        "    train_path,\n",
        "    batch_size=64,\n",
        "    class_mode='categorical',\n",
        "    shuffle=False,\n",
        "    target_size=(224, 224)\n",
        ")\n",
        "\n",
        "\n",
        "val_path = '/content/val/'\n",
        "val_datagen = ImageDataGenerator(rescale= 1./255)\n",
        "val_generator = val_datagen.flow_from_directory(\n",
        "    val_path,\n",
        "    batch_size=32,\n",
        "    class_mode='categorical',\n",
        "    shuffle=False,\n",
        "    target_size=(224, 224)\n",
        ")\n",
        "\n",
        "\n",
        "test_path = '/content/test/'\n",
        "test_datagen = ImageDataGenerator(rescale= 1./255)\n",
        "test_generator = test_datagen.flow_from_directory(\n",
        "    test_path,\n",
        "    batch_size=32,\n",
        "    class_mode='categorical',\n",
        "    shuffle=False,\n",
        "    target_size=(224, 224)\n",
        ")"
      ],
      "metadata": {
        "colab": {
          "base_uri": "https://localhost:8080/"
        },
        "id": "GfaoL__Fktgf",
        "outputId": "6a7864b2-7a49-456f-b15c-ce957985348e"
      },
      "execution_count": 28,
      "outputs": [
        {
          "output_type": "stream",
          "name": "stdout",
          "text": [
            "Found 2353 images belonging to 3 classes.\n",
            "Found 290 images belonging to 3 classes.\n",
            "Found 261 images belonging to 3 classes.\n"
          ]
        }
      ]
    },
    {
      "cell_type": "markdown",
      "source": [
        "**Training and testing the model:**"
      ],
      "metadata": {
        "id": "Mj-s3OY3k5jy"
      }
    },
    {
      "cell_type": "code",
      "source": [
        "BATCH_SIZE=64\n",
        "\n",
        "TRAINING_SIZE =2353\n",
        "\n",
        "VALIDATION_SIZE =290\n",
        "compute_steps_per_epoch = lambda x: int(math.ceil(1. * x / BATCH_SIZE))\n",
        "steps_per_epoch = compute_steps_per_epoch(TRAINING_SIZE)\n",
        "val_steps = compute_steps_per_epoch(VALIDATION_SIZE)\n",
        "print(steps_per_epoch)\n",
        "print(val_steps)"
      ],
      "metadata": {
        "colab": {
          "base_uri": "https://localhost:8080/"
        },
        "id": "VsCHTNJck5B4",
        "outputId": "d00b3503-f4ef-4af4-c946-b02e102cc293"
      },
      "execution_count": 29,
      "outputs": [
        {
          "output_type": "stream",
          "name": "stdout",
          "text": [
            "37\n",
            "5\n"
          ]
        }
      ]
    },
    {
      "cell_type": "code",
      "source": [
        "history = model_finall.fit(\n",
        "    train_generator,\n",
        "    validation_data=val_generator,\n",
        "    epochs=25,\n",
        "    batch_size=64,\n",
        "    #steps_per_epoch=116,\n",
        "    #validation_steps=56,\n",
        "    steps_per_epoch=37, #TO BE CHANGED ACC TO PREV OUTPUT\n",
        "    validation_steps=5)  #TO BE CHANGED ACC TO PREV OUTPUT"
      ],
      "metadata": {
        "colab": {
          "base_uri": "https://localhost:8080/"
        },
        "id": "K9SpqOdmlE8J",
        "outputId": "b86f690d-63be-4929-a98b-3e4178f59f4f"
      },
      "execution_count": 31,
      "outputs": [
        {
          "output_type": "stream",
          "name": "stdout",
          "text": [
            "Epoch 1/25\n",
            "37/37 [==============================] - 15s 393ms/step - loss: 1.5213 - accuracy: 0.6349 - val_loss: 2.7492e-07 - val_accuracy: 1.0000\n",
            "Epoch 2/25\n",
            "37/37 [==============================] - 15s 397ms/step - loss: 1.0168 - accuracy: 0.6664 - val_loss: 0.2771 - val_accuracy: 0.9062\n",
            "Epoch 3/25\n",
            "37/37 [==============================] - 15s 398ms/step - loss: 0.6731 - accuracy: 0.7637 - val_loss: 0.1185 - val_accuracy: 0.9875\n",
            "Epoch 4/25\n",
            "37/37 [==============================] - 15s 398ms/step - loss: 0.3746 - accuracy: 0.8755 - val_loss: 0.0645 - val_accuracy: 0.9875\n",
            "Epoch 5/25\n",
            "37/37 [==============================] - 15s 395ms/step - loss: 0.8127 - accuracy: 0.7888 - val_loss: 0.3472 - val_accuracy: 0.8562\n",
            "Epoch 6/25\n",
            "37/37 [==============================] - 15s 397ms/step - loss: 0.2585 - accuracy: 0.9082 - val_loss: 0.7659 - val_accuracy: 0.5875\n",
            "Epoch 7/25\n",
            "37/37 [==============================] - 15s 392ms/step - loss: 0.2432 - accuracy: 0.9214 - val_loss: 0.6357 - val_accuracy: 0.7750\n",
            "Epoch 8/25\n",
            "37/37 [==============================] - 15s 388ms/step - loss: 0.1003 - accuracy: 0.9686 - val_loss: 0.1681 - val_accuracy: 0.9312\n",
            "Epoch 9/25\n",
            "37/37 [==============================] - 15s 395ms/step - loss: 0.0870 - accuracy: 0.9762 - val_loss: 1.3719 - val_accuracy: 0.2812\n",
            "Epoch 10/25\n",
            "37/37 [==============================] - 15s 392ms/step - loss: 0.0386 - accuracy: 0.9834 - val_loss: 0.0441 - val_accuracy: 1.0000\n",
            "Epoch 11/25\n",
            "37/37 [==============================] - 15s 390ms/step - loss: 0.0392 - accuracy: 0.9877 - val_loss: 0.8219 - val_accuracy: 0.5625\n",
            "Epoch 12/25\n",
            "37/37 [==============================] - 15s 396ms/step - loss: 0.0029 - accuracy: 1.0000 - val_loss: 0.4935 - val_accuracy: 0.8000\n",
            "Epoch 13/25\n",
            "37/37 [==============================] - 15s 395ms/step - loss: 0.0013 - accuracy: 1.0000 - val_loss: 0.2717 - val_accuracy: 0.9000\n",
            "Epoch 14/25\n",
            "37/37 [==============================] - 15s 401ms/step - loss: 6.9740e-04 - accuracy: 1.0000 - val_loss: 0.2337 - val_accuracy: 0.9000\n",
            "Epoch 15/25\n",
            "37/37 [==============================] - 15s 399ms/step - loss: 5.2906e-04 - accuracy: 1.0000 - val_loss: 0.1804 - val_accuracy: 0.9250\n",
            "Epoch 16/25\n",
            "37/37 [==============================] - 15s 398ms/step - loss: 4.2550e-04 - accuracy: 1.0000 - val_loss: 0.1601 - val_accuracy: 0.9438\n",
            "Epoch 17/25\n",
            "37/37 [==============================] - 15s 396ms/step - loss: 3.5345e-04 - accuracy: 1.0000 - val_loss: 0.1473 - val_accuracy: 0.9563\n",
            "Epoch 18/25\n",
            "37/37 [==============================] - 15s 397ms/step - loss: 3.0281e-04 - accuracy: 1.0000 - val_loss: 0.1403 - val_accuracy: 0.9625\n",
            "Epoch 19/25\n",
            "37/37 [==============================] - 15s 392ms/step - loss: 2.5801e-04 - accuracy: 1.0000 - val_loss: 0.1366 - val_accuracy: 0.9688\n",
            "Epoch 20/25\n",
            "37/37 [==============================] - 15s 395ms/step - loss: 2.2673e-04 - accuracy: 1.0000 - val_loss: 0.1296 - val_accuracy: 0.9688\n",
            "Epoch 21/25\n",
            "37/37 [==============================] - 15s 393ms/step - loss: 1.9986e-04 - accuracy: 1.0000 - val_loss: 0.1249 - val_accuracy: 0.9688\n",
            "Epoch 22/25\n",
            "37/37 [==============================] - 15s 398ms/step - loss: 1.7836e-04 - accuracy: 1.0000 - val_loss: 0.1227 - val_accuracy: 0.9750\n",
            "Epoch 23/25\n",
            "37/37 [==============================] - 15s 399ms/step - loss: 1.6187e-04 - accuracy: 1.0000 - val_loss: 0.1232 - val_accuracy: 0.9688\n",
            "Epoch 24/25\n",
            "37/37 [==============================] - 15s 400ms/step - loss: 1.4535e-04 - accuracy: 1.0000 - val_loss: 0.1219 - val_accuracy: 0.9750\n",
            "Epoch 25/25\n",
            "37/37 [==============================] - 15s 398ms/step - loss: 1.3157e-04 - accuracy: 1.0000 - val_loss: 0.1189 - val_accuracy: 0.9812\n"
          ]
        }
      ]
    },
    {
      "cell_type": "code",
      "source": [
        "from sklearn import metrics\n",
        "Y_pred = model_finall.predict(test_generator)\n",
        "y_pred = np.argmax(Y_pred, axis=1)\n",
        "print('Confusion Matrix')\n",
        "cm = metrics.confusion_matrix(test_generator.classes, y_pred)"
      ],
      "metadata": {
        "colab": {
          "base_uri": "https://localhost:8080/"
        },
        "id": "ZROzBcfWmT4k",
        "outputId": "b8ac0540-d622-4225-84b3-72b0c845cb72"
      },
      "execution_count": 32,
      "outputs": [
        {
          "output_type": "stream",
          "name": "stdout",
          "text": [
            "Confusion Matrix\n"
          ]
        }
      ]
    },
    {
      "cell_type": "code",
      "source": [
        "print(cm)"
      ],
      "metadata": {
        "colab": {
          "base_uri": "https://localhost:8080/"
        },
        "id": "tNeyFgJ5mebH",
        "outputId": "9faac35c-91d5-4ee6-da26-f9b4c9604a3e"
      },
      "execution_count": 33,
      "outputs": [
        {
          "output_type": "stream",
          "name": "stdout",
          "text": [
            "[[143  10]\n",
            " [  6 102]]\n"
          ]
        }
      ]
    },
    {
      "cell_type": "code",
      "source": [
        "train_path = '/content/augmented data/'\n",
        "print(os.listdir(train_path))"
      ],
      "metadata": {
        "colab": {
          "base_uri": "https://localhost:8080/"
        },
        "id": "pa_5Dx6smfo3",
        "outputId": "3e2cc741-7a8f-4998-c017-1779701a68d7"
      },
      "execution_count": 34,
      "outputs": [
        {
          "output_type": "stream",
          "name": "stdout",
          "text": [
            "['no', '.ipynb_checkpoints', 'yes']\n"
          ]
        }
      ]
    },
    {
      "cell_type": "code",
      "source": [
        "import numpy as np\n",
        "from tensorflow.keras import backend as K\n",
        "from tensorflow.keras.models import Sequential\n",
        "from sklearn.metrics import classification_report, confusion_matrix\n",
        "\n",
        "\n",
        "print('Classification Report')\n",
        "target_names =['no', 'yes'] #change\n",
        "\n",
        "\n",
        "print(classification_report(test_generator.classes, y_pred, target_names=target_names))"
      ],
      "metadata": {
        "colab": {
          "base_uri": "https://localhost:8080/"
        },
        "id": "aVUE380mm3fo",
        "outputId": "29909fdc-c024-4f7d-cbaa-0ff9247efe91"
      },
      "execution_count": 36,
      "outputs": [
        {
          "output_type": "stream",
          "name": "stdout",
          "text": [
            "Classification Report\n",
            "              precision    recall  f1-score   support\n",
            "\n",
            "          no       0.96      0.93      0.95       153\n",
            "         yes       0.91      0.94      0.93       108\n",
            "\n",
            "    accuracy                           0.94       261\n",
            "   macro avg       0.94      0.94      0.94       261\n",
            "weighted avg       0.94      0.94      0.94       261\n",
            "\n"
          ]
        }
      ]
    },
    {
      "cell_type": "code",
      "source": [
        "import matplotlib.pyplot as plt\n",
        "\n",
        "# plot the loss\n",
        "plt.plot(history.history['loss'], label='train loss')\n",
        "plt.plot(history.history['val_loss'], label='val loss')\n",
        "plt.legend()\n",
        "plt.show()\n",
        "plt.savefig('LossVal_loss')\n",
        "\n",
        "# plot the trainng and validarion accuracy\n",
        "plt.plot(history.history['accuracy'], label='train acc')\n",
        "plt.plot(history.history['val_accuracy'], label='val acc')\n",
        "plt.legend()\n",
        "plt.show()\n",
        "plt.savefig('AccVal_acc')"
      ],
      "metadata": {
        "colab": {
          "base_uri": "https://localhost:8080/",
          "height": 530
        },
        "id": "C9w7OrWjnNxE",
        "outputId": "5ad42f95-9ebf-4e7f-ec3e-7d50b234d405"
      },
      "execution_count": 37,
      "outputs": [
        {
          "output_type": "display_data",
          "data": {
            "image/png": "[encoded data removed]",
            "text/plain": [
              "<Figure size 432x288 with 1 Axes>"
            ]
          },
          "metadata": {
            "needs_background": "light"
          }
        },
        {
          "output_type": "display_data",
          "data": {
            "image/png": "[encoded data removed]",
            "text/plain": [
              "<Figure size 432x288 with 1 Axes>"
            ]
          },
          "metadata": {
            "needs_background": "light"
          }
        },
        {
          "output_type": "display_data",
          "data": {
            "text/plain": [
              "<Figure size 432x288 with 0 Axes>"
            ]
          },
          "metadata": {}
        }
      ]
    },
    {
      "cell_type": "code",
      "source": [
        "tf.keras.models.save_model(\n",
        "    model_finall,\n",
        "    'model_finall_Shuffle1.h5',\n",
        "    overwrite=True,\n",
        "    include_optimizer=True,\n",
        "    save_format=None,\n",
        "    signatures=None,\n",
        "    options=None\n",
        ")"
      ],
      "metadata": {
        "id": "LOwiesGlnxz4"
      },
      "execution_count": 38,
      "outputs": []
    },
    {
      "cell_type": "code",
      "source": [
        "print(y_pred)"
      ],
      "metadata": {
        "colab": {
          "base_uri": "https://localhost:8080/"
        },
        "id": "0KjkpDwboPNp",
        "outputId": "9488b1ec-0f90-416a-c9c5-e7655b3c85af"
      },
      "execution_count": 39,
      "outputs": [
        {
          "output_type": "stream",
          "name": "stdout",
          "text": [
            "[1 1 1 1 1 1 1 1 1 1 1 1 2 1 1 1 2 2 1 1 1 1 1 1 1 1 1 1 1 1 1 1 1 1 1 1 1\n",
            " 1 1 1 1 1 1 1 1 1 1 1 1 1 1 1 1 1 1 1 1 1 1 1 1 1 1 1 1 1 1 1 1 1 1 1 1 1\n",
            " 1 1 1 1 1 1 1 1 1 1 1 2 2 2 1 1 1 1 1 2 1 1 1 1 1 1 1 1 1 1 1 1 1 1 1 1 1\n",
            " 1 1 1 1 1 1 1 1 1 1 1 1 1 1 1 1 1 1 1 1 1 1 1 1 1 2 2 2 1 1 1 1 1 1 1 1 1\n",
            " 1 1 1 1 1 2 2 2 2 2 2 2 2 2 2 2 2 2 2 2 2 2 2 2 1 2 2 2 2 2 2 1 2 1 1 2 2\n",
            " 2 2 2 2 2 2 2 2 2 2 2 2 2 2 2 2 2 2 2 2 2 2 2 2 2 2 2 2 2 2 2 2 2 2 2 2 2\n",
            " 2 2 2 2 2 2 2 2 2 1 2 2 2 2 2 2 2 2 2 2 2 2 2 2 2 2 2 2 2 1 2 2 2 2 2 2 2\n",
            " 2 2]\n"
          ]
        }
      ]
    }
  ]
}